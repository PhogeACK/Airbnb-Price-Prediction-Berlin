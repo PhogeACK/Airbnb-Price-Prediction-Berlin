{
 "cells": [
  {
   "cell_type": "code",
   "execution_count": 1,
   "metadata": {},
   "outputs": [
    {
     "data": {
      "text/html": [
       "<div>\n",
       "<style scoped>\n",
       "    .dataframe tbody tr th:only-of-type {\n",
       "        vertical-align: middle;\n",
       "    }\n",
       "\n",
       "    .dataframe tbody tr th {\n",
       "        vertical-align: top;\n",
       "    }\n",
       "\n",
       "    .dataframe thead th {\n",
       "        text-align: right;\n",
       "    }\n",
       "</style>\n",
       "<table border=\"1\" class=\"dataframe\">\n",
       "  <thead>\n",
       "    <tr style=\"text-align: right;\">\n",
       "      <th></th>\n",
       "      <th>index</th>\n",
       "      <th>Review ID</th>\n",
       "      <th>review_date</th>\n",
       "      <th>Reviewer ID</th>\n",
       "      <th>Reviewer Name</th>\n",
       "      <th>Comments</th>\n",
       "      <th>Listing ID</th>\n",
       "      <th>Listing URL</th>\n",
       "      <th>Listing Name</th>\n",
       "      <th>Host ID</th>\n",
       "      <th>...</th>\n",
       "      <th>Last Review</th>\n",
       "      <th>Overall Rating</th>\n",
       "      <th>Accuracy Rating</th>\n",
       "      <th>Cleanliness Rating</th>\n",
       "      <th>Checkin Rating</th>\n",
       "      <th>Communication Rating</th>\n",
       "      <th>Location Rating</th>\n",
       "      <th>Value Rating</th>\n",
       "      <th>Instant Bookable</th>\n",
       "      <th>Business Travel Ready</th>\n",
       "    </tr>\n",
       "  </thead>\n",
       "  <tbody>\n",
       "    <tr>\n",
       "      <th>0</th>\n",
       "      <td>0</td>\n",
       "      <td>58660447.0</td>\n",
       "      <td>01-03-16</td>\n",
       "      <td>14876562.0</td>\n",
       "      <td>Dennis</td>\n",
       "      <td>Very nice, clean appartement! Josh was really ...</td>\n",
       "      <td>10002699</td>\n",
       "      <td>https://www.airbnb.com/rooms/10002699</td>\n",
       "      <td>Trendy and peaceful KreuzkÃÂ¶lln</td>\n",
       "      <td>44696672</td>\n",
       "      <td>...</td>\n",
       "      <td>01-03-16</td>\n",
       "      <td>100.0</td>\n",
       "      <td>8.0</td>\n",
       "      <td>10.0</td>\n",
       "      <td>6.0</td>\n",
       "      <td>10.0</td>\n",
       "      <td>10.0</td>\n",
       "      <td>10.0</td>\n",
       "      <td>f</td>\n",
       "      <td>f</td>\n",
       "    </tr>\n",
       "    <tr>\n",
       "      <th>1</th>\n",
       "      <td>1</td>\n",
       "      <td>NaN</td>\n",
       "      <td>NaN</td>\n",
       "      <td>NaN</td>\n",
       "      <td>NaN</td>\n",
       "      <td>NaN</td>\n",
       "      <td>10002922</td>\n",
       "      <td>https://www.airbnb.com/rooms/10002922</td>\n",
       "      <td>Sehr zentrale Wohnung in Berlin</td>\n",
       "      <td>45848709</td>\n",
       "      <td>...</td>\n",
       "      <td>NaN</td>\n",
       "      <td>NaN</td>\n",
       "      <td>NaN</td>\n",
       "      <td>NaN</td>\n",
       "      <td>NaN</td>\n",
       "      <td>NaN</td>\n",
       "      <td>NaN</td>\n",
       "      <td>NaN</td>\n",
       "      <td>f</td>\n",
       "      <td>f</td>\n",
       "    </tr>\n",
       "    <tr>\n",
       "      <th>2</th>\n",
       "      <td>2</td>\n",
       "      <td>58663795.0</td>\n",
       "      <td>01-03-16</td>\n",
       "      <td>49367757.0</td>\n",
       "      <td>Andreea</td>\n",
       "      <td>Aki is really nice and friendly. We had an ama...</td>\n",
       "      <td>10006647</td>\n",
       "      <td>https://www.airbnb.com/rooms/10006647</td>\n",
       "      <td>Very central and very quite</td>\n",
       "      <td>40791092</td>\n",
       "      <td>...</td>\n",
       "      <td>02-12-17</td>\n",
       "      <td>92.0</td>\n",
       "      <td>9.0</td>\n",
       "      <td>8.0</td>\n",
       "      <td>9.0</td>\n",
       "      <td>10.0</td>\n",
       "      <td>10.0</td>\n",
       "      <td>9.0</td>\n",
       "      <td>f</td>\n",
       "      <td>f</td>\n",
       "    </tr>\n",
       "    <tr>\n",
       "      <th>3</th>\n",
       "      <td>3</td>\n",
       "      <td>59003619.0</td>\n",
       "      <td>01-05-16</td>\n",
       "      <td>46694292.0</td>\n",
       "      <td>Sasha</td>\n",
       "      <td>Aki is a very nice dude with a clean place in ...</td>\n",
       "      <td>10006647</td>\n",
       "      <td>https://www.airbnb.com/rooms/10006647</td>\n",
       "      <td>Very central and very quite</td>\n",
       "      <td>40791092</td>\n",
       "      <td>...</td>\n",
       "      <td>02-12-17</td>\n",
       "      <td>92.0</td>\n",
       "      <td>9.0</td>\n",
       "      <td>8.0</td>\n",
       "      <td>9.0</td>\n",
       "      <td>10.0</td>\n",
       "      <td>10.0</td>\n",
       "      <td>9.0</td>\n",
       "      <td>f</td>\n",
       "      <td>f</td>\n",
       "    </tr>\n",
       "    <tr>\n",
       "      <th>4</th>\n",
       "      <td>4</td>\n",
       "      <td>66845661.0</td>\n",
       "      <td>03-25-16</td>\n",
       "      <td>54542819.0</td>\n",
       "      <td>Yohana</td>\n",
       "      <td>Aki's place was easy to find and located in th...</td>\n",
       "      <td>10006647</td>\n",
       "      <td>https://www.airbnb.com/rooms/10006647</td>\n",
       "      <td>Very central and very quite</td>\n",
       "      <td>40791092</td>\n",
       "      <td>...</td>\n",
       "      <td>02-12-17</td>\n",
       "      <td>92.0</td>\n",
       "      <td>9.0</td>\n",
       "      <td>8.0</td>\n",
       "      <td>9.0</td>\n",
       "      <td>10.0</td>\n",
       "      <td>10.0</td>\n",
       "      <td>9.0</td>\n",
       "      <td>f</td>\n",
       "      <td>f</td>\n",
       "    </tr>\n",
       "  </tbody>\n",
       "</table>\n",
       "<p>5 rows × 47 columns</p>\n",
       "</div>"
      ],
      "text/plain": [
       "   index   Review ID review_date  Reviewer ID Reviewer Name  \\\n",
       "0      0  58660447.0    01-03-16   14876562.0        Dennis   \n",
       "1      1         NaN         NaN          NaN           NaN   \n",
       "2      2  58663795.0    01-03-16   49367757.0       Andreea   \n",
       "3      3  59003619.0    01-05-16   46694292.0         Sasha   \n",
       "4      4  66845661.0    03-25-16   54542819.0        Yohana   \n",
       "\n",
       "                                            Comments  Listing ID  \\\n",
       "0  Very nice, clean appartement! Josh was really ...    10002699   \n",
       "1                                                NaN    10002922   \n",
       "2  Aki is really nice and friendly. We had an ama...    10006647   \n",
       "3  Aki is a very nice dude with a clean place in ...    10006647   \n",
       "4  Aki's place was easy to find and located in th...    10006647   \n",
       "\n",
       "                             Listing URL                       Listing Name  \\\n",
       "0  https://www.airbnb.com/rooms/10002699  Trendy and peaceful KreuzkÃÂ¶lln   \n",
       "1  https://www.airbnb.com/rooms/10002922    Sehr zentrale Wohnung in Berlin   \n",
       "2  https://www.airbnb.com/rooms/10006647        Very central and very quite   \n",
       "3  https://www.airbnb.com/rooms/10006647        Very central and very quite   \n",
       "4  https://www.airbnb.com/rooms/10006647        Very central and very quite   \n",
       "\n",
       "    Host ID  ... Last Review Overall Rating Accuracy Rating  \\\n",
       "0  44696672  ...    01-03-16          100.0             8.0   \n",
       "1  45848709  ...         NaN            NaN             NaN   \n",
       "2  40791092  ...    02-12-17           92.0             9.0   \n",
       "3  40791092  ...    02-12-17           92.0             9.0   \n",
       "4  40791092  ...    02-12-17           92.0             9.0   \n",
       "\n",
       "  Cleanliness Rating Checkin Rating Communication Rating Location Rating  \\\n",
       "0               10.0            6.0                 10.0            10.0   \n",
       "1                NaN            NaN                  NaN             NaN   \n",
       "2                8.0            9.0                 10.0            10.0   \n",
       "3                8.0            9.0                 10.0            10.0   \n",
       "4                8.0            9.0                 10.0            10.0   \n",
       "\n",
       "  Value Rating Instant Bookable Business Travel Ready  \n",
       "0         10.0                f                     f  \n",
       "1          NaN                f                     f  \n",
       "2          9.0                f                     f  \n",
       "3          9.0                f                     f  \n",
       "4          9.0                f                     f  \n",
       "\n",
       "[5 rows x 47 columns]"
      ]
     },
     "execution_count": 1,
     "metadata": {},
     "output_type": "execute_result"
    }
   ],
   "source": [
    "import pandas as pd\n",
    "import numpy as np\n",
    "import matplotlib.pyplot as plt\n",
    "import seaborn as sns\n",
    "import warnings\n",
    "import datetime\n",
    "\n",
    "warnings.filterwarnings(\"ignore\")\n",
    "%matplotlib inline\n",
    "\n",
    "df = pd.read_csv(r\"\\\\popnasal07.bnhpgroup.com\\Departments\\DIGITALFACTORY\\GENERAL\\קורס DS - AIRBNB\\Final Project\\Source File\\Airbnb Berlin.csv\", encoding='latin1')\n",
    "df.head()"
   ]
  },
  {
   "cell_type": "markdown",
   "metadata": {},
   "source": [
    "## Initial review:"
   ]
  },
  {
   "cell_type": "markdown",
   "metadata": {},
   "source": [
    "Filtring the dataset for the most recent year in it, excluding cities which are not Berlin. Altering 't' & 'f' values into '1' & '0' in the boolean columns.Dropping the irrelevant columns from the dataset.\n",
    "\n"
   ]
  },
  {
   "cell_type": "code",
   "execution_count": 2,
   "metadata": {},
   "outputs": [
    {
     "name": "stdout",
     "output_type": "stream",
     "text": [
      "<class 'pandas.core.frame.DataFrame'>\n",
      "Index: 157014 entries, 45 to 456925\n",
      "Data columns (total 34 columns):\n",
      " #   Column                Non-Null Count   Dtype  \n",
      "---  ------                --------------   -----  \n",
      " 0   review_date           157014 non-null  object \n",
      " 1   Comments              156911 non-null  object \n",
      " 2   Listing ID            157014 non-null  int64  \n",
      " 3   Listing Name          156983 non-null  object \n",
      " 4   Host ID               157014 non-null  int64  \n",
      " 5   Host Since            157014 non-null  object \n",
      " 6   Host Response Time    141106 non-null  object \n",
      " 7   Host Response Rate    141106 non-null  object \n",
      " 8   Is Superhost          157014 non-null  object \n",
      " 9   Neighborhood Group    157014 non-null  object \n",
      " 10  Latitude              157014 non-null  float64\n",
      " 11  Longitude             157014 non-null  float64\n",
      " 12  Is Exact Location     157014 non-null  object \n",
      " 13  Property Type         157014 non-null  object \n",
      " 14  Room Type             157014 non-null  object \n",
      " 15  Accomodates           157014 non-null  int64  \n",
      " 16  Bathrooms             156879 non-null  float64\n",
      " 17  Bedrooms              156833 non-null  float64\n",
      " 18  Beds                  156989 non-null  float64\n",
      " 19  Price                 157014 non-null  object \n",
      " 20  Guests Included       157014 non-null  int64  \n",
      " 21  Min Nights            157014 non-null  int64  \n",
      " 22  Reviews               157014 non-null  int64  \n",
      " 23  First Review          157014 non-null  object \n",
      " 24  Last Review           157014 non-null  object \n",
      " 25  Overall Rating        156849 non-null  float64\n",
      " 26  Accuracy Rating       156850 non-null  float64\n",
      " 27  Cleanliness Rating    156850 non-null  float64\n",
      " 28  Checkin Rating        156847 non-null  float64\n",
      " 29  Communication Rating  156848 non-null  float64\n",
      " 30  Location Rating       156847 non-null  float64\n",
      " 31  Value Rating          156847 non-null  float64\n",
      " 32  Instant Bookable      157014 non-null  object \n",
      " 33  review_mnt            157014 non-null  object \n",
      "dtypes: float64(12), int64(6), object(16)\n",
      "memory usage: 41.9+ MB\n"
     ]
    }
   ],
   "source": [
    "df['Is Superhost'] = df['Is Superhost'].astype(str).str.replace('t', '1', regex=False)\n",
    "df['Is Superhost'] = df['Is Superhost'].astype(str).str.replace('f', '0', regex=False)\n",
    "\n",
    "df['Is Exact Location'] = df['Is Exact Location'].astype(str).str.replace('t', '1', regex=False)\n",
    "df['Is Exact Location'] = df['Is Exact Location'].astype(str).str.replace('f', '0', regex=False)\n",
    "\n",
    "df['Instant Bookable'] = df['Instant Bookable'].astype(str).str.replace('t', '1', regex=False)\n",
    "df['Instant Bookable'] = df['Instant Bookable'].astype(str).str.replace('f', '0', regex=False)\n",
    "\n",
    "df['review_date'] = df['review_date'].astype(str).str.replace('-', '/', regex=False)\n",
    "df['review_year'] = df['review_date'].str[-2:]\n",
    "df['review_mnt'] = df['review_date'].str[0:2]\n",
    "#df['review_day'] = df['review_date'].str[3:5]\n",
    "\n",
    "\n",
    "df18 = df[(df['review_year'] == '18') & (df['City'] == 'Berlin')]\n",
    "\n",
    "\n",
    "df18 = df18.drop(['Reviewer ID','review_year','Postal Code','Review ID','index', 'Reviewer Name','Listing URL',\n",
    "                  'Host URL','Host Name','neighbourhood','City','Country Code','Country','Business Travel Ready','Square Feet'], axis=1)\n",
    "\n",
    "df18.info()"
   ]
  },
  {
   "cell_type": "markdown",
   "metadata": {},
   "source": [
    "Changing 'objects' to their real data types:"
   ]
  },
  {
   "cell_type": "code",
   "execution_count": 3,
   "metadata": {},
   "outputs": [
    {
     "name": "stdout",
     "output_type": "stream",
     "text": [
      "<class 'pandas.core.frame.DataFrame'>\n",
      "Index: 157014 entries, 45 to 456925\n",
      "Data columns (total 34 columns):\n",
      " #   Column                Non-Null Count   Dtype         \n",
      "---  ------                --------------   -----         \n",
      " 0   review_date           157014 non-null  datetime64[ns]\n",
      " 1   Comments              156911 non-null  string        \n",
      " 2   Listing ID            157014 non-null  int64         \n",
      " 3   Listing Name          156983 non-null  string        \n",
      " 4   Host ID               157014 non-null  int64         \n",
      " 5   Host Since            157014 non-null  datetime64[ns]\n",
      " 6   Host Response Time    141106 non-null  string        \n",
      " 7   Host Response Rate    141106 non-null  float64       \n",
      " 8   Is Superhost          157014 non-null  bool          \n",
      " 9   Neighborhood Group    157014 non-null  string        \n",
      " 10  Latitude              157014 non-null  float64       \n",
      " 11  Longitude             157014 non-null  float64       \n",
      " 12  Is Exact Location     157014 non-null  bool          \n",
      " 13  Property Type         157014 non-null  string        \n",
      " 14  Room Type             157014 non-null  string        \n",
      " 15  Accomodates           157014 non-null  int64         \n",
      " 16  Bathrooms             156879 non-null  float64       \n",
      " 17  Bedrooms              156833 non-null  float64       \n",
      " 18  Beds                  156989 non-null  float64       \n",
      " 19  Price                 156963 non-null  float64       \n",
      " 20  Guests Included       157014 non-null  int64         \n",
      " 21  Min Nights            157014 non-null  int64         \n",
      " 22  Reviews               157014 non-null  int64         \n",
      " 23  First Review          157014 non-null  datetime64[ns]\n",
      " 24  Last Review           157014 non-null  datetime64[ns]\n",
      " 25  Overall Rating        156849 non-null  float64       \n",
      " 26  Accuracy Rating       156850 non-null  float64       \n",
      " 27  Cleanliness Rating    156850 non-null  float64       \n",
      " 28  Checkin Rating        156847 non-null  float64       \n",
      " 29  Communication Rating  156848 non-null  float64       \n",
      " 30  Location Rating       156847 non-null  float64       \n",
      " 31  Value Rating          156847 non-null  float64       \n",
      " 32  Instant Bookable      157014 non-null  bool          \n",
      " 33  review_mnt            157014 non-null  Int64         \n",
      "dtypes: Int64(1), bool(3), datetime64[ns](4), float64(14), int64(6), string(6)\n",
      "memory usage: 38.9 MB\n"
     ]
    }
   ],
   "source": [
    "#Changing objects into 'real' datatypes:\n",
    "Str_columns = ['Comments','Listing Name','Host Response Time','Neighborhood Group','Property Type','Room Type']\n",
    "Date_columns = ['review_date','Host Since','First Review','Last Review']\n",
    "Bool_columns = ['Is Superhost','Is Exact Location','Instant Bookable']\n",
    "Float_columns = ['Price']\n",
    "Int_columns = ['review_mnt']\n",
    "\n",
    "df18[Str_columns] = df[Str_columns].astype('string')\n",
    "df18[Date_columns] = df[Date_columns].apply(pd.to_datetime, errors='coerce')\n",
    "df18[Bool_columns] = df[Bool_columns].apply(pd.to_numeric, errors='coerce').astype(bool)\n",
    "df18[Float_columns] = df[Float_columns].apply(pd.to_numeric, errors='coerce').astype(float)\n",
    "df18[Int_columns] = df[Int_columns].apply(pd.to_numeric, errors='coerce').astype('Int64')\n",
    "\n",
    "\n",
    "#Altering host response rate from % to float:\n",
    "df18['Host Response Rate'] = df18['Host Response Rate'].str.replace('%','').astype(float)\n",
    "df18['Host Response Rate'] = df18['Host Response Rate']/100\n",
    "\n",
    "\n",
    "df18.info()"
   ]
  },
  {
   "cell_type": "markdown",
   "metadata": {},
   "source": [
    "## Reviewing value counts in some features"
   ]
  },
  {
   "cell_type": "code",
   "execution_count": 2,
   "metadata": {},
   "outputs": [
    {
     "data": {
      "text/plain": [
       "Is Exact Location\n",
       "True     123959\n",
       "False     33055\n",
       "Name: count, dtype: int64"
      ]
     },
     "execution_count": 2,
     "metadata": {},
     "output_type": "execute_result"
    }
   ],
   "source": [
    "df18['Is Exact Location'].value_counts(dropna=False) "
   ]
  },
  {
   "cell_type": "code",
   "execution_count": 3,
   "metadata": {},
   "outputs": [
    {
     "data": {
      "text/plain": [
       "45                      Cosy studio in Weserstr.\n",
       "64        Raw / Minimalist Apartment NeukÃÂ¶lln\n",
       "65        Raw / Minimalist Apartment NeukÃÂ¶lln\n",
       "66        Raw / Minimalist Apartment NeukÃÂ¶lln\n",
       "71                   Two cozy rooms in Kreuzberg\n",
       "                           ...                  \n",
       "456921         Potsdamer Platz-Top Spot Studio 1\n",
       "456922         Potsdamer Platz-Top Spot Studio 1\n",
       "456923         Potsdamer Platz-Top Spot Studio 1\n",
       "456924         Potsdamer Platz-Top Spot Studio 1\n",
       "456925         Potsdamer Platz-Top Spot Studio 1\n",
       "Name: Listing Name, Length: 157014, dtype: string"
      ]
     },
     "execution_count": 3,
     "metadata": {},
     "output_type": "execute_result"
    }
   ],
   "source": [
    "df18['Listing Name']"
   ]
  },
  {
   "cell_type": "code",
   "execution_count": 4,
   "metadata": {},
   "outputs": [
    {
     "data": {
      "text/plain": [
       "Listing ID\n",
       "26970536    197\n",
       "26970086    159\n",
       "20839690    155\n",
       "7429427     138\n",
       "12864127    134\n",
       "           ... \n",
       "29524680      1\n",
       "29526850      1\n",
       "19294003      1\n",
       "29556773      1\n",
       "10008354      1\n",
       "Name: count, Length: 12217, dtype: int64"
      ]
     },
     "execution_count": 4,
     "metadata": {},
     "output_type": "execute_result"
    }
   ],
   "source": [
    "df18['Listing ID'].value_counts(dropna=False)\n"
   ]
  },
  {
   "cell_type": "code",
   "execution_count": 5,
   "metadata": {},
   "outputs": [
    {
     "data": {
      "text/plain": [
       "Host Since\n",
       "2017-02-20    1280\n",
       "2013-08-19    1074\n",
       "2016-02-19     854\n",
       "2012-05-04     820\n",
       "2014-10-08     584\n",
       "              ... \n",
       "2016-07-05       1\n",
       "2012-02-05       1\n",
       "2018-08-11       1\n",
       "2016-12-12       1\n",
       "2009-08-25       1\n",
       "Name: count, Length: 2755, dtype: int64"
      ]
     },
     "execution_count": 5,
     "metadata": {},
     "output_type": "execute_result"
    }
   ],
   "source": [
    "df18['Host Since'].value_counts(dropna=False)\n"
   ]
  },
  {
   "cell_type": "markdown",
   "metadata": {},
   "source": [
    "## Creating new feature "
   ]
  },
  {
   "cell_type": "markdown",
   "metadata": {},
   "source": [
    "Displaying host tenure based on 'host since'."
   ]
  },
  {
   "cell_type": "code",
   "execution_count": 8,
   "metadata": {},
   "outputs": [],
   "source": [
    "target_date = datetime.datetime(2018, 12, 31)\n",
    "\n",
    "df18['Host_tenure'] = df18['Host Since'].apply(lambda x: (target_date - x).days / 365.25)"
   ]
  },
  {
   "cell_type": "code",
   "execution_count": 9,
   "metadata": {},
   "outputs": [],
   "source": [
    "df18 = df18.drop(['Host Since'], axis=1)"
   ]
  },
  {
   "cell_type": "code",
   "execution_count": 10,
   "metadata": {},
   "outputs": [],
   "source": [
    "df18.to_pickle(r'\\\\popnasal07.bnhpgroup.com\\Departments\\DIGITALFACTORY\\GENERAL\\קורס DS - AIRBNB\\final.pkl') "
   ]
  }
 ],
 "metadata": {
  "kernelspec": {
   "display_name": "Python 3 (ipykernel)",
   "language": "python",
   "name": "python3"
  },
  "language_info": {
   "codemirror_mode": {
    "name": "ipython",
    "version": 3
   },
   "file_extension": ".py",
   "mimetype": "text/x-python",
   "name": "python",
   "nbconvert_exporter": "python",
   "pygments_lexer": "ipython3",
   "version": "3.12.7"
  }
 },
 "nbformat": 4,
 "nbformat_minor": 4
}
