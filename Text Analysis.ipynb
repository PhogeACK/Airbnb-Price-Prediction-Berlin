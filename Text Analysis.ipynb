{
 "cells": [
  {
   "cell_type": "code",
   "execution_count": 1,
   "metadata": {},
   "outputs": [],
   "source": [
    "import pandas as pd\n",
    "import matplotlib.pyplot as plt\n",
    "import numpy as np\n",
    "from langdetect import detect\n",
    "from langdetect.lang_detect_exception import LangDetectException"
   ]
  },
  {
   "cell_type": "code",
   "execution_count": 2,
   "metadata": {},
   "outputs": [],
   "source": [
    "#!pip install langdetect"
   ]
  },
  {
   "cell_type": "code",
   "execution_count": 4,
   "metadata": {},
   "outputs": [
    {
     "name": "stderr",
     "output_type": "stream",
     "text": [
      "c:\\python\\Anaconda3\\lib\\site-packages\\IPython\\core\\interactiveshell.py:3146: DtypeWarning: Columns (12,23) have mixed types.Specify dtype option on import or set low_memory=False.\n",
      "  has_raised = await self.run_ast_nodes(code_ast.body, cell_name,\n"
     ]
    }
   ],
   "source": [
    "df = pd.read_csv(\"U:\\\\Anna\\\\AirbnbBerlin18.csv\")\n",
    "#df = pd.read_csv(\"C:/Users/ophir/Desktop/beer_consumption.csv\")"
   ]
  },
  {
   "cell_type": "code",
   "execution_count": 6,
   "metadata": {
    "scrolled": true
   },
   "outputs": [],
   "source": [
    "#df.info()"
   ]
  },
  {
   "cell_type": "code",
   "execution_count": 23,
   "metadata": {},
   "outputs": [],
   "source": [
    "comments_df = df[['Comments','Review ID','Listing ID']].dropna().loc[df['Comments'] != '']"
   ]
  },
  {
   "cell_type": "code",
   "execution_count": 24,
   "metadata": {},
   "outputs": [
    {
     "name": "stdout",
     "output_type": "stream",
     "text": [
      "<class 'pandas.core.frame.DataFrame'>\n",
      "Int64Index: 156912 entries, 0 to 157013\n",
      "Data columns (total 3 columns):\n",
      " #   Column      Non-Null Count   Dtype  \n",
      "---  ------      --------------   -----  \n",
      " 0   Comments    156912 non-null  object \n",
      " 1   Review ID   156912 non-null  float64\n",
      " 2   Listing ID  156912 non-null  int64  \n",
      "dtypes: float64(1), int64(1), object(1)\n",
      "memory usage: 4.8+ MB\n"
     ]
    }
   ],
   "source": [
    "comments_df.info()"
   ]
  },
  {
   "cell_type": "code",
   "execution_count": 25,
   "metadata": {},
   "outputs": [
    {
     "name": "stdout",
     "output_type": "stream",
     "text": [
      "                                                 Comments    Review ID  \\\n",
      "0       Caroline war eine sehr nette Gastgeberin. Sie ...  229567041.0   \n",
      "1       Check-in/-out verlief reibungslos!KÃÂ¼nstleri...  251204468.0   \n",
      "2       FÃÂ¼r ein WE Ausflug fÃÂ¼r Paare geeignet. D...  256119773.0   \n",
      "3       Fritz has a really nice flat in a cosy neighbo...  269857683.0   \n",
      "4       Carlos place is amazing, nicely decorated, goo...  329973125.0   \n",
      "...                                                   ...          ...   \n",
      "157009  Great location; comfortable, clean & quiet acc...  358649474.0   \n",
      "157010  Great location and great host. Martin provides...  359590777.0   \n",
      "157011  This place is awesome! it has everything from ...  361695756.0   \n",
      "157012  Martin's home is great, the location is perfec...  362784618.0   \n",
      "157013  Appartement trÃÂ¨s bien situÃÂ© pr visiter B...  364177030.0   \n",
      "\n",
      "        Listing ID  Is_English  \n",
      "0         10008354       False  \n",
      "1         10012243       False  \n",
      "2         10012243       False  \n",
      "3         10012243        True  \n",
      "4         10012834        True  \n",
      "...            ...         ...  \n",
      "157009     9994644        True  \n",
      "157010     9994644        True  \n",
      "157011     9994644        True  \n",
      "157012     9994644        True  \n",
      "157013     9994644       False  \n",
      "\n",
      "[156912 rows x 4 columns]\n"
     ]
    }
   ],
   "source": [
    "# Function to detect language\n",
    "def is_english(text):\n",
    "    try:\n",
    "        return detect(text) == 'en'  # Returns True if language is English\n",
    "    except LangDetectException:\n",
    "        return False  # In case language detection fails\n",
    "\n",
    "# Apply the function to the 'Comments' column to create a new column 'Is_English'\n",
    "comments_df['Is_English'] = comments_df['Comments'].apply(is_english)\n",
    "\n",
    "# Show the updated DataFrame\n",
    "print(comments_df)"
   ]
  },
  {
   "cell_type": "code",
   "execution_count": 26,
   "metadata": {},
   "outputs": [
    {
     "data": {
      "text/plain": [
       "True     103542\n",
       "False     53370\n",
       "Name: Is_English, dtype: int64"
      ]
     },
     "execution_count": 26,
     "metadata": {},
     "output_type": "execute_result"
    }
   ],
   "source": [
    "counts = comments_df['Is_English'].value_counts()\n",
    "counts"
   ]
  },
  {
   "cell_type": "code",
   "execution_count": 27,
   "metadata": {},
   "outputs": [],
   "source": [
    "df_eng_com = comments_df[comments_df['Is_English'] == True] "
   ]
  },
  {
   "cell_type": "code",
   "execution_count": 28,
   "metadata": {},
   "outputs": [
    {
     "name": "stdout",
     "output_type": "stream",
     "text": [
      "                                                 Comments    Review ID  \\\n",
      "3       Fritz has a really nice flat in a cosy neighbo...  269857683.0   \n",
      "4       Carlos place is amazing, nicely decorated, goo...  329973125.0   \n",
      "5       Nice and confortable place, perfect with kids,...  248757642.0   \n",
      "7       Great apartment.  About a 10 min walk from the...  223471676.0   \n",
      "8       Cosy and well situated apartment, exatly as de...  225091235.0   \n",
      "...                                                   ...          ...   \n",
      "157008                     Everything went fine and easy.  357458819.0   \n",
      "157009  Great location; comfortable, clean & quiet acc...  358649474.0   \n",
      "157010  Great location and great host. Martin provides...  359590777.0   \n",
      "157011  This place is awesome! it has everything from ...  361695756.0   \n",
      "157012  Martin's home is great, the location is perfec...  362784618.0   \n",
      "\n",
      "        Listing ID  Is_English  Sentiment  \n",
      "3         10012243        True          1  \n",
      "4         10012834        True          1  \n",
      "5         10029891        True          1  \n",
      "7         10031729        True          1  \n",
      "8         10031729        True          1  \n",
      "...            ...         ...        ...  \n",
      "157008     9994644        True          1  \n",
      "157009     9994644        True          1  \n",
      "157010     9994644        True          1  \n",
      "157011     9994644        True          1  \n",
      "157012     9994644        True          1  \n",
      "\n",
      "[103542 rows x 5 columns]\n"
     ]
    },
    {
     "name": "stderr",
     "output_type": "stream",
     "text": [
      "<ipython-input-28-b4724f5214ea>:15: SettingWithCopyWarning: \n",
      "A value is trying to be set on a copy of a slice from a DataFrame.\n",
      "Try using .loc[row_indexer,col_indexer] = value instead\n",
      "\n",
      "See the caveats in the documentation: https://pandas.pydata.org/pandas-docs/stable/user_guide/indexing.html#returning-a-view-versus-a-copy\n",
      "  df_eng_com['Sentiment'] = df_eng_com['Comments'].apply(get_sentiment)\n"
     ]
    }
   ],
   "source": [
    "from textblob import TextBlob\n",
    "\n",
    "# Assuming your DataFrame is called comments_df_2\n",
    "def get_sentiment(text):\n",
    "    # Analyze the polarity of the text (returns a value between -1 and 1)\n",
    "    polarity = TextBlob(text).sentiment.polarity\n",
    "    if polarity > 0:\n",
    "        return 1  # Positive sentiment\n",
    "    elif polarity < 0:\n",
    "        return -1  # Negative sentiment\n",
    "    else:\n",
    "        return 0  # Neutral sentiment\n",
    "\n",
    "# Apply the function to the Comments column and create a new Sentiment column\n",
    "df_eng_com['Sentiment'] = df_eng_com['Comments'].apply(get_sentiment)\n",
    "\n",
    "# Print the updated DataFrame\n",
    "print(df_eng_com)"
   ]
  },
  {
   "cell_type": "code",
   "execution_count": 29,
   "metadata": {},
   "outputs": [
    {
     "data": {
      "text/plain": [
       " 1    98826\n",
       " 0     3604\n",
       "-1     1112\n",
       "Name: Sentiment, dtype: int64"
      ]
     },
     "execution_count": 29,
     "metadata": {},
     "output_type": "execute_result"
    }
   ],
   "source": [
    "df_eng_com['Sentiment'].value_counts()"
   ]
  },
  {
   "cell_type": "code",
   "execution_count": 30,
   "metadata": {},
   "outputs": [],
   "source": [
    "df_eng_com.to_csv(r'U:\\Anna\\sentiment_eng_com.csv', index=False)"
   ]
  },
  {
   "cell_type": "code",
   "execution_count": null,
   "metadata": {},
   "outputs": [],
   "source": []
  }
 ],
 "metadata": {
  "kernelspec": {
   "display_name": "Python 3",
   "language": "python",
   "name": "python3"
  },
  "language_info": {
   "codemirror_mode": {
    "name": "ipython",
    "version": 3
   },
   "file_extension": ".py",
   "mimetype": "text/x-python",
   "name": "python",
   "nbconvert_exporter": "python",
   "pygments_lexer": "ipython3",
   "version": "3.8.5"
  }
 },
 "nbformat": 4,
 "nbformat_minor": 4
}
